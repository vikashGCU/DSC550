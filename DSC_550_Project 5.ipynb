{
 "cells": [
  {
   "cell_type": "code",
   "execution_count": 11,
   "id": "29d91c36",
   "metadata": {},
   "outputs": [],
   "source": [
    "# Importing libraries\n",
    "import pandas as pd\n",
    "from sklearn import tree\n",
    "from sklearn import preprocessing\n",
    "import csv"
   ]
  },
  {
   "cell_type": "code",
   "execution_count": 4,
   "id": "aa4344b2",
   "metadata": {},
   "outputs": [],
   "source": [
    "# Creating a CSV file with 4 input values\n",
    "feat =  [\n",
    "             [\"Round\",\"Rough\",1.12], # Orange\n",
    "             [\"Elliptical\",\"Smooth\",0.47], # Apple\n",
    "             [\"Round\",\"Rough\",1.71], # Orange\n",
    "            [\"Round\",\"Rough\",1.23]] # Orange\n",
    "\n",
    "with open('innovators.csv', 'w', newline='') as file:\n",
    "    writer = csv.writer(file, delimiter='|')\n",
    "    writer.writerows(data_list)\n",
    "\n",
    "\n",
    "# Creating a preprocessor function which would transform the input values into 1 or -1\n",
    "# 1 for Smooth, Round, and >1 pound and -1 for Rough, Elliptical, and <1 pound\n",
    "\n",
    "\n",
    "def ftr(feat):\n",
    "\n",
    "    for i in range(len(feat)):\n",
    "        if feat[i][2] >1:\n",
    "            feat[i][2]=1\n",
    "        else:\n",
    "            feat[i][2]= -1\n",
    "        \n",
    "        if feat[i][1] ==\"Smooth\":\n",
    "            feat[i][1]=1\n",
    "        else:\n",
    "            feat[i][1]= -1\n",
    "        \n",
    "        if feat[i][0] ==\"Round\":\n",
    "            feat[i][0]=1\n",
    "        else:\n",
    "            feat[i][0]= -1\n",
    "    return feat\n",
    "\n",
    "# Created a label corresponding to CSV file input,1 represents orange and 0 represents apple\n",
    "\n",
    "labels = [1, 0, 1, 1] \n",
    "\n",
    "\n"
   ]
  },
  {
   "cell_type": "code",
   "execution_count": 6,
   "id": "58e70cfd",
   "metadata": {},
   "outputs": [
    {
     "name": "stdout",
     "output_type": "stream",
     "text": [
      "[[-1, 1, -1]]\n",
      "[[1, -1, 1]]\n"
     ]
    }
   ],
   "source": [
    "# Testing the preprocessor function\n",
    "print (ftr([[\"Elliptical\",\"Smooth\",0.2]])) # Orange\n",
    "\n",
    "print (ftr([[\"Round\",\"Rough\",1.2]])) # Apple"
   ]
  },
  {
   "cell_type": "code",
   "execution_count": 7,
   "id": "a7e878be",
   "metadata": {},
   "outputs": [],
   "source": [
    "\n",
    "# Its time to Train classifier, using the DecisionTree classifier\n",
    "\n",
    "classifier = tree.DecisionTreeClassifier()  # using decision tree classifier\n",
    "\n",
    "classifier = classifier.fit(ftr(feat), labels)  # Find patterns in data"
   ]
  },
  {
   "cell_type": "code",
   "execution_count": 8,
   "id": "e51fdf95",
   "metadata": {},
   "outputs": [],
   "source": [
    "# Created a function which would output which would be understandable \n",
    "def pattern(a):\n",
    "    if classifier.predict(a)==1:\n",
    "        return \"Orange\"\n",
    "    else:\n",
    "        return \"Apple\""
   ]
  },
  {
   "cell_type": "code",
   "execution_count": 13,
   "id": "ac995660",
   "metadata": {},
   "outputs": [
    {
     "name": "stdout",
     "output_type": "stream",
     "text": [
      "Orange\n",
      "Apple\n"
     ]
    }
   ],
   "source": [
    "# Model Testing\n",
    "# Its time to test the model depending on random input\n",
    "print(pattern(ftr([[\"Round\",\"Rough\",1.2]])))\n",
    "print(pattern(ftr([[\"Elliptical\",\"Smooth\",0.2]])))"
   ]
  },
  {
   "cell_type": "code",
   "execution_count": null,
   "id": "fa2d21f0",
   "metadata": {},
   "outputs": [],
   "source": []
  }
 ],
 "metadata": {
  "kernelspec": {
   "display_name": "Python 3",
   "language": "python",
   "name": "python3"
  },
  "language_info": {
   "codemirror_mode": {
    "name": "ipython",
    "version": 3
   },
   "file_extension": ".py",
   "mimetype": "text/x-python",
   "name": "python",
   "nbconvert_exporter": "python",
   "pygments_lexer": "ipython3",
   "version": "3.8.8"
  }
 },
 "nbformat": 4,
 "nbformat_minor": 5
}
